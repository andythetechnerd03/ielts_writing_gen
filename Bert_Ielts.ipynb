{
  "nbformat": 4,
  "nbformat_minor": 0,
  "metadata": {
    "colab": {
      "provenance": []
    },
    "kernelspec": {
      "name": "python3",
      "display_name": "Python 3"
    },
    "language_info": {
      "name": "python"
    },
    "accelerator": "GPU",
    "gpuClass": "standard"
  },
  "cells": [
    {
      "cell_type": "code",
      "source": [
        "!pip install evaluate"
      ],
      "metadata": {
        "id": "w9SZiAETRjSg"
      },
      "execution_count": null,
      "outputs": []
    },
    {
      "cell_type": "code",
      "execution_count": null,
      "metadata": {
        "id": "e_4GHHzPP6aE"
      },
      "outputs": [],
      "source": [
        "!pip install transformers"
      ]
    },
    {
      "cell_type": "code",
      "source": [
        "from transformers import BertForMaskedLM, AutoTokenizer"
      ],
      "metadata": {
        "id": "bHsGcTJ3QJ3T"
      },
      "execution_count": 1,
      "outputs": []
    },
    {
      "cell_type": "code",
      "source": [
        "model = BertForMaskedLM.from_pretrained(\"prajjwal1/bert-medium\")\n",
        "tokenizer = AutoTokenizer.from_pretrained(\"prajjwal1/bert-medium\")"
      ],
      "metadata": {
        "colab": {
          "base_uri": "https://localhost:8080/"
        },
        "id": "zRxolGv2Q7nf",
        "outputId": "485456c7-f942-474b-d1ae-664a2701aeb4"
      },
      "execution_count": 2,
      "outputs": [
        {
          "output_type": "stream",
          "name": "stderr",
          "text": [
            "Some weights of the model checkpoint at prajjwal1/bert-medium were not used when initializing BertForMaskedLM: ['cls.seq_relationship.weight', 'cls.seq_relationship.bias']\n",
            "- This IS expected if you are initializing BertForMaskedLM from the checkpoint of a model trained on another task or with another architecture (e.g. initializing a BertForSequenceClassification model from a BertForPreTraining model).\n",
            "- This IS NOT expected if you are initializing BertForMaskedLM from the checkpoint of a model that you expect to be exactly identical (initializing a BertForSequenceClassification model from a BertForSequenceClassification model).\n"
          ]
        }
      ]
    },
    {
      "cell_type": "code",
      "source": [
        "tokenizer.bos_token, tokenizer.pad_token, tokenizer.sep_token, tokenizer.cls_token, tokenizer.mask_token, tokenizer.pad_token_id, tokenizer.sep_token_id, tokenizer.cls_token_id"
      ],
      "metadata": {
        "colab": {
          "base_uri": "https://localhost:8080/"
        },
        "id": "-UApq_5HWhoz",
        "outputId": "a5eb3ca6-3f68-4326-f328-8214eddd3b43"
      },
      "execution_count": 3,
      "outputs": [
        {
          "output_type": "stream",
          "name": "stderr",
          "text": [
            "Using bos_token, but it is not set yet.\n"
          ]
        },
        {
          "output_type": "execute_result",
          "data": {
            "text/plain": [
              "(None, '[PAD]', '[SEP]', '[CLS]', '[MASK]', 0, 102, 101)"
            ]
          },
          "metadata": {},
          "execution_count": 3
        }
      ]
    },
    {
      "cell_type": "markdown",
      "source": [
        "# **Data processing**"
      ],
      "metadata": {
        "id": "LDxXbUhWZJMz"
      }
    },
    {
      "cell_type": "code",
      "source": [
        "import json\n",
        "import random\n",
        "dataset = json.load(open(\"./dataset.json\", \"r\"))\n",
        "dataset = [i.strip(\" .\").split(\" . \") for i in dataset]\n",
        "all_post = []\n",
        "all_len = []\n",
        "for post in dataset:\n",
        "    post = [\n",
        "        tokenizer.tokenize(i) for i in post\n",
        "    ]\n",
        "    # for idx in range(1, len(post)):\n",
        "    #     if len(post[idx-1]) < 10 or len(post[idx-1]) > 60 or len(post[idx]) < 10 or len(post[idx]) > 60:\n",
        "    #         continue\n",
        "    #     seq = [\"CLS\"] + post[idx-1] + [\" . \"] + post[idx] + [\" . \"] + [\"SEP\"]\n",
        "    lens = [len(i) for i in post]  \n",
        "    all_post.append(post)\n",
        "    all_len += lens\n",
        "from collections import Counter\n",
        "ct = Counter(all_len)\n",
        "max(all_len), min(all_len)"
      ],
      "metadata": {
        "colab": {
          "base_uri": "https://localhost:8080/"
        },
        "id": "uQBwNvRbT7T-",
        "outputId": "76b35b48-a1eb-4d2e-cfde-034502bb94d1"
      },
      "execution_count": 5,
      "outputs": [
        {
          "output_type": "execute_result",
          "data": {
            "text/plain": [
              "(87, 1)"
            ]
          },
          "metadata": {},
          "execution_count": 5
        }
      ]
    },
    {
      "cell_type": "code",
      "source": [
        "import matplotlib.pyplot as plt\n",
        "import seaborn as sns\n",
        "sns.set_style('whitegrid')\n",
        "plt.style.use(\"fivethirtyeight\")\n",
        "%matplotlib inline\n",
        "\n",
        "plt.bar(list(ct.keys()), list(ct.values()))\n",
        "plt.ylabel(\"Frequence\")\n",
        "plt.xlabel(\"Sequence length\")\n",
        "plt.title(\"Frequence of each sequence length in dataset\")"
      ],
      "metadata": {
        "colab": {
          "base_uri": "https://localhost:8080/",
          "height": 313
        },
        "id": "o9U_8WwPZeW0",
        "outputId": "a575e713-f8ef-45ed-f1ab-e06e2ef6f0c0"
      },
      "execution_count": 57,
      "outputs": [
        {
          "output_type": "execute_result",
          "data": {
            "text/plain": [
              "Text(0.5, 1.0, 'Frequence of each sequence length in dataset')"
            ]
          },
          "metadata": {},
          "execution_count": 57
        },
        {
          "output_type": "display_data",
          "data": {
            "text/plain": [
              "<Figure size 432x288 with 1 Axes>"
            ],
            "image/png": "[encoded data removed]"
          },
          "metadata": {
            "needs_background": "light"
          }
        }
      ]
    },
    {
      "cell_type": "code",
      "source": [
        "# Get in range [10, 60]\n",
        "all_len = list(filter(lambda x: x >= 10 and x <= 60, all_len))\n",
        "ct = Counter(all_len)\n",
        "print(max(all_len), min(all_len))\n",
        "plt.bar(list(ct.keys()), list(ct.values()))\n",
        "plt.ylabel(\"Frequence\")\n",
        "plt.xlabel(\"Sequence length\")\n",
        "plt.title(\"Frequence of each sequence length after split\")"
      ],
      "metadata": {
        "colab": {
          "base_uri": "https://localhost:8080/",
          "height": 331
        },
        "id": "0--e7X1AeKM2",
        "outputId": "6a2c78e4-50b8-4495-e09b-5924f19c43e2"
      },
      "execution_count": 58,
      "outputs": [
        {
          "output_type": "stream",
          "name": "stdout",
          "text": [
            "60 10\n"
          ]
        },
        {
          "output_type": "execute_result",
          "data": {
            "text/plain": [
              "Text(0.5, 1.0, 'Frequence of each sequence length after split')"
            ]
          },
          "metadata": {},
          "execution_count": 58
        },
        {
          "output_type": "display_data",
          "data": {
            "text/plain": [
              "<Figure size 432x288 with 1 Axes>"
            ],
            "image/png": "[encoded data removed]"
          },
          "metadata": {
            "needs_background": "light"
          }
        }
      ]
    },
    {
      "cell_type": "code",
      "source": [
        "# Make pair sentences\n",
        "all_len = []\n",
        "all_seq = []\n",
        "for post in all_post:\n",
        "    for idx in range(1, len(post)):\n",
        "        cur = post[idx]\n",
        "        pre = post[idx-1]\n",
        "        if len(pre) < 10 or len(cur) < 10 or len(pre) > 60 or len(cur) > 60:\n",
        "            continue\n",
        "        all_len.append(len(cur) + len(pre))\n",
        "        cur = tokenizer.convert_tokens_to_string(cur)\n",
        "        pre = tokenizer.convert_tokens_to_string(pre)\n",
        "        seq = pre + \". \" + cur\n",
        "        all_seq.append(seq)\n",
        "ct = Counter(all_len)\n",
        "print(max(all_len), min(all_len))\n",
        "plt.bar(list(ct.keys()), list(ct.values()))\n",
        "plt.ylabel(\"Frequence\")\n",
        "plt.xlabel(\"Sequence length\")\n",
        "plt.title(\"Frequence of each sequence length after make pair sentence\")"
      ],
      "metadata": {
        "colab": {
          "base_uri": "https://localhost:8080/",
          "height": 331
        },
        "id": "B0ogzt0iedVj",
        "outputId": "5881e8be-1a82-4a94-ce85-fdc4dd183639"
      },
      "execution_count": 67,
      "outputs": [
        {
          "output_type": "stream",
          "name": "stdout",
          "text": [
            "106 20\n"
          ]
        },
        {
          "output_type": "execute_result",
          "data": {
            "text/plain": [
              "Text(0.5, 1.0, 'Frequence of each sequence length after make pair sentence')"
            ]
          },
          "metadata": {},
          "execution_count": 67
        },
        {
          "output_type": "display_data",
          "data": {
            "text/plain": [
              "<Figure size 432x288 with 1 Axes>"
            ],
            "image/png": "[encoded data removed]"
          },
          "metadata": {
            "needs_background": "light"
          }
        }
      ]
    },
    {
      "cell_type": "code",
      "source": [
        "# Create test data\n",
        "valid_seqs = []\n",
        "for seq in all_seq:\n",
        "    seq = tokenizer.tokenize(seq)\n",
        "    if len(seq) < 75:\n",
        "        continue \n",
        "    d = random.randint(40, 70)\n",
        "    seq = seq[d:]\n",
        "    seq = tokenizer.convert_tokens_to_string(seq)\n",
        "    valid_seqs.append(seq)"
      ],
      "metadata": {
        "id": "f5P118SpjUHq"
      },
      "execution_count": 69,
      "outputs": []
    },
    {
      "cell_type": "code",
      "source": [
        "print(\"Len of train dataset:\", len(all_seq))\n",
        "print(\"Len of valid dataset:\", len(valid_seqs))"
      ],
      "metadata": {
        "colab": {
          "base_uri": "https://localhost:8080/"
        },
        "id": "jW7sEdA6jCCF",
        "outputId": "f3756833-7a16-418d-bf12-ace459a346e2"
      },
      "execution_count": 70,
      "outputs": [
        {
          "output_type": "stream",
          "name": "stdout",
          "text": [
            "Len of train dataset: 5961\n",
            "Len of valid dataset: 229\n"
          ]
        }
      ]
    },
    {
      "cell_type": "code",
      "source": [
        "# Save data\n",
        "def save_json(filename, data):\n",
        "    with open(filename, \"w\") as f:\n",
        "        json.dump(data, f)\n",
        "        f.close()\n",
        "    print(f\"[+] Save {filename} successfully\")\n",
        "\n",
        "save_json(\"./train.json\", all_seq)\n",
        "save_json(\"./valid.json\", valid_seqs)"
      ],
      "metadata": {
        "colab": {
          "base_uri": "https://localhost:8080/"
        },
        "id": "h-gCDWWXj3o7",
        "outputId": "95c66717-14bd-4056-b85c-4cffede82c92"
      },
      "execution_count": 71,
      "outputs": [
        {
          "output_type": "stream",
          "name": "stdout",
          "text": [
            "[+] Save ./train.json successfully\n",
            "[+] Save ./valid.json successfully\n"
          ]
        }
      ]
    },
    {
      "cell_type": "markdown",
      "source": [
        "# **Create CustomDataset**"
      ],
      "metadata": {
        "id": "DXdQTOHHP04c"
      }
    },
    {
      "cell_type": "code",
      "source": [
        "import torch\n",
        "from torch.utils.data import Dataset, DataLoader\n",
        "class CustomDataset(Dataset):\n",
        "\n",
        "    def __init__(self, filename, tokenizer, max_len=128, mlm_prob=0.15):\n",
        "        self.tokenizer = tokenizer\n",
        "        self.mlm_prob = mlm_prob\n",
        "        self.max_len = max_len\n",
        "        self.__read_data(filename)\n",
        "\n",
        "    def __read_data(self, filename):\n",
        "        self.data = json.load(open(filename, \"r\"))\n",
        "\n",
        "    def __len__(self):\n",
        "        return len(self.data)\n",
        "\n",
        "    def __getitem__(self, idx):\n",
        "        input = self.tokenizer(self.data[idx], max_length=self.max_len, padding=\"max_length\", return_tensors=\"pt\")  \n",
        "        input[\"labels\"] = input.input_ids.detach().clone()\n",
        "        mask = torch.rand((1, self.max_len)) <= self.mlm_prob\n",
        "        mask = mask * (input.input_ids != self.tokenizer.cls_token_id) * (input.input_ids != self.tokenizer.sep_token_id) * (input.input_ids != self.tokenizer.pad_token_id)\n",
        "        mask_idx = mask.nonzero()\n",
        "        input.input_ids[0, mask_idx[:, 1]] = self.tokenizer.mask_token_id\n",
        "        for k, v in input.items():\n",
        "            v = v.squeeze()\n",
        "            input[k] = v\n",
        "        return input"
      ],
      "metadata": {
        "id": "RraS3RubPnK1"
      },
      "execution_count": 38,
      "outputs": []
    },
    {
      "cell_type": "code",
      "source": [
        "train_dataset = CustomDataset(\"./train.json\", tokenizer, mlm_prob=0.55)\n",
        "valid_dataset = CustomDataset(\"./valid.json\", tokenizer, mlm_prob=0.15)"
      ],
      "metadata": {
        "id": "PHsWdtfHl6IC"
      },
      "execution_count": 39,
      "outputs": []
    },
    {
      "cell_type": "code",
      "source": [
        "train_dataset[10]"
      ],
      "metadata": {
        "colab": {
          "base_uri": "https://localhost:8080/"
        },
        "id": "L53g_NNbvVZh",
        "outputId": "577e4f99-e02b-47f8-a802-bd9f668e3afc"
      },
      "execution_count": 40,
      "outputs": [
        {
          "output_type": "execute_result",
          "data": {
            "text/plain": [
              "{'input_ids': tensor([  101,   103,  2026,   103,   103,   103,   103,   103,   103,  2023,\n",
              "         9575,   103,   103,   103,   103,  3778,  1997,  2147,   103,  6360,\n",
              "         7461,  2111,   103,   103,  5177,   103,   103,   103,   103,  2524,\n",
              "          103,  2965,  2008,  2111,  2064,   103,  2131,   103,  1997,   103,\n",
              "        16342,   103,   103,   103,  1010,   103,   103,   103,   103,  2051,\n",
              "          102,     0,     0,     0,     0,     0,     0,     0,     0,     0,\n",
              "            0,     0,     0,     0,     0,     0,     0,     0,     0,     0,\n",
              "            0,     0,     0,     0,     0,     0,     0,     0,     0,     0,\n",
              "            0,     0,     0,     0,     0,     0,     0,     0,     0,     0,\n",
              "            0,     0,     0,     0,     0,     0,     0,     0,     0,     0,\n",
              "            0,     0,     0,     0,     0,     0,     0,     0,     0,     0,\n",
              "            0,     0,     0,     0,     0,     0,     0,     0,     0,     0,\n",
              "            0,     0,     0,     0,     0,     0,     0,     0]), 'token_type_ids': tensor([0, 0, 0, 0, 0, 0, 0, 0, 0, 0, 0, 0, 0, 0, 0, 0, 0, 0, 0, 0, 0, 0, 0, 0,\n",
              "        0, 0, 0, 0, 0, 0, 0, 0, 0, 0, 0, 0, 0, 0, 0, 0, 0, 0, 0, 0, 0, 0, 0, 0,\n",
              "        0, 0, 0, 0, 0, 0, 0, 0, 0, 0, 0, 0, 0, 0, 0, 0, 0, 0, 0, 0, 0, 0, 0, 0,\n",
              "        0, 0, 0, 0, 0, 0, 0, 0, 0, 0, 0, 0, 0, 0, 0, 0, 0, 0, 0, 0, 0, 0, 0, 0,\n",
              "        0, 0, 0, 0, 0, 0, 0, 0, 0, 0, 0, 0, 0, 0, 0, 0, 0, 0, 0, 0, 0, 0, 0, 0,\n",
              "        0, 0, 0, 0, 0, 0, 0, 0]), 'attention_mask': tensor([1, 1, 1, 1, 1, 1, 1, 1, 1, 1, 1, 1, 1, 1, 1, 1, 1, 1, 1, 1, 1, 1, 1, 1,\n",
              "        1, 1, 1, 1, 1, 1, 1, 1, 1, 1, 1, 1, 1, 1, 1, 1, 1, 1, 1, 1, 1, 1, 1, 1,\n",
              "        1, 1, 1, 0, 0, 0, 0, 0, 0, 0, 0, 0, 0, 0, 0, 0, 0, 0, 0, 0, 0, 0, 0, 0,\n",
              "        0, 0, 0, 0, 0, 0, 0, 0, 0, 0, 0, 0, 0, 0, 0, 0, 0, 0, 0, 0, 0, 0, 0, 0,\n",
              "        0, 0, 0, 0, 0, 0, 0, 0, 0, 0, 0, 0, 0, 0, 0, 0, 0, 0, 0, 0, 0, 0, 0, 0,\n",
              "        0, 0, 0, 0, 0, 0, 0, 0]), 'labels': tensor([  101,  1999,  2026,  5448,  1010,  1996,  5409,  7814,  1997,  2023,\n",
              "         9575,  2003,  2008,  1996,  4121,  3778,  1997,  2147,  2097,  6360,\n",
              "         7461,  2111,  1521,  1055,  5177,  2740,  1012, 11664,  2135,  2524,\n",
              "         2147,  2965,  2008,  2111,  2064,  2196,  2131,  9436,  1997,  1996,\n",
              "        16342,  1997,  2037,  2147,  1010,  2130,  1999,  2037, 12257,  2051,\n",
              "          102,     0,     0,     0,     0,     0,     0,     0,     0,     0,\n",
              "            0,     0,     0,     0,     0,     0,     0,     0,     0,     0,\n",
              "            0,     0,     0,     0,     0,     0,     0,     0,     0,     0,\n",
              "            0,     0,     0,     0,     0,     0,     0,     0,     0,     0,\n",
              "            0,     0,     0,     0,     0,     0,     0,     0,     0,     0,\n",
              "            0,     0,     0,     0,     0,     0,     0,     0,     0,     0,\n",
              "            0,     0,     0,     0,     0,     0,     0,     0,     0,     0,\n",
              "            0,     0,     0,     0,     0,     0,     0,     0])}"
            ]
          },
          "metadata": {},
          "execution_count": 40
        }
      ]
    },
    {
      "cell_type": "markdown",
      "source": [
        "# **Training Model**"
      ],
      "metadata": {
        "id": "CF8KkPmZq8Zb"
      }
    },
    {
      "cell_type": "code",
      "source": [
        "import evaluate\n",
        "from transformers import Trainer, TrainingArguments, DataCollatorForLanguageModeling"
      ],
      "metadata": {
        "id": "YJEljrGvqXFc"
      },
      "execution_count": 10,
      "outputs": []
    },
    {
      "cell_type": "code",
      "source": [
        "for name, param in model.named_parameters():\n",
        "    if \"cls.predictions.\" in name:\n",
        "        param.requires_grad = True\n",
        "    else:\n",
        "        param.requires_grad = False \n",
        "    print(name, param.requires_grad)"
      ],
      "metadata": {
        "id": "978F7czYrDip"
      },
      "execution_count": null,
      "outputs": []
    },
    {
      "cell_type": "code",
      "source": [
        "def compute_metrics(pred):\n",
        "    global tokenizer\n",
        "    labels = pred.label_ids\n",
        "    preds = pred.predictions.argmax(-1)\n",
        "    preds = tokenizer.batch_decode(preds, skip_special_tokens=True)\n",
        "    labels = tokenizer.batch_decode(labels, skip_special_tokens=True)\n",
        "    bleu = evaluate.load(\"bleu\")\n",
        "    results = bleu.compute(predictions=preds, references=labels)\n",
        "    return {\n",
        "        \"bleu\": results[\"bleu\"],\n",
        "        # \"bleu\": 1.0,\n",
        "        \"brevity_penalty\": results[\"brevity_penalty\"],\n",
        "        \"length_ratio\": results[\"length_ratio\"]\n",
        "    }"
      ],
      "metadata": {
        "id": "5xaNip1Xri9m"
      },
      "execution_count": 12,
      "outputs": []
    },
    {
      "cell_type": "code",
      "source": [
        "training_args = TrainingArguments(\n",
        "    output_dir=\"./checkpoint\",\n",
        "    overwrite_output_dir=True,\n",
        "    num_train_epochs=20,\n",
        "    save_strategy=\"epoch\",\n",
        "    logging_strategy =\"epoch\",\n",
        "    evaluation_strategy=\"epoch\",\n",
        "    per_device_train_batch_size=8,\n",
        "    per_device_eval_batch_size=8,\n",
        "    learning_rate=3e-3,\n",
        "    save_total_limit=1,\n",
        "    warmup_steps=4000,\n",
        "    warmup_ratio = 0.25,\n",
        "    lr_scheduler_type='linear',\n",
        "    # max_steps=4\n",
        ")\n",
        "\n",
        "collator = DataCollatorForLanguageModeling(tokenizer=tokenizer, mlm=False)\n",
        "trainer = Trainer(\n",
        "    model=model.to(\"cuda\"),\n",
        "    compute_metrics=compute_metrics,              \n",
        "    args=training_args,\n",
        "    train_dataset=train_dataset,\n",
        "    eval_dataset=valid_dataset,\n",
        "    # data_collator=collator,\n",
        ")"
      ],
      "metadata": {
        "colab": {
          "base_uri": "https://localhost:8080/"
        },
        "id": "Yq_adPScsNiv",
        "outputId": "2c592fe9-9a60-471d-947d-aed4dbb02667"
      },
      "execution_count": 45,
      "outputs": [
        {
          "output_type": "stream",
          "name": "stderr",
          "text": [
            "PyTorch: setting up devices\n",
            "The default value for the training argument `--report_to` will change in v5 (from all installed integrations to none). In v5, you will need to use `--report_to all` to get the same behavior as now. You should start updating your code and make this info disappear :-).\n",
            "Both warmup_ratio and warmup_steps given, warmup_steps will override any effect of warmup_ratio during training\n"
          ]
        }
      ]
    },
    {
      "cell_type": "code",
      "source": [
        "trainer.train()"
      ],
      "metadata": {
        "colab": {
          "base_uri": "https://localhost:8080/",
          "height": 950
        },
        "id": "p0WSRcMWsaWv",
        "outputId": "22c61473-b007-4b5a-b77c-1db92657fae1"
      },
      "execution_count": null,
      "outputs": [
        {
          "output_type": "stream",
          "name": "stderr",
          "text": [
            "/usr/local/lib/python3.8/dist-packages/transformers/optimization.py:306: FutureWarning: This implementation of AdamW is deprecated and will be removed in a future version. Use the PyTorch implementation torch.optim.AdamW instead, or set `no_deprecation_warning=True` to disable this warning\n",
            "  warnings.warn(\n",
            "***** Running training *****\n",
            "  Num examples = 5961\n",
            "  Num Epochs = 20\n",
            "  Instantaneous batch size per device = 8\n",
            "  Total train batch size (w. parallel, distributed & accumulation) = 8\n",
            "  Gradient Accumulation steps = 1\n",
            "  Total optimization steps = 14920\n",
            "  Number of trainable parameters = 294202\n"
          ]
        },
        {
          "output_type": "display_data",
          "data": {
            "text/plain": [
              "<IPython.core.display.HTML object>"
            ],
            "text/html": [
              "\n",
              "    <div>\n",
              "      \n",
              "      <progress value='3532' max='14920' style='width:300px; height:20px; vertical-align: middle;'></progress>\n",
              "      [ 3532/14920 03:30 < 11:20, 16.74 it/s, Epoch 4.73/20]\n",
              "    </div>\n",
              "    <table border=\"1\" class=\"dataframe\">\n",
              "  <thead>\n",
              " <tr style=\"text-align: left;\">\n",
              "      <th>Epoch</th>\n",
              "      <th>Training Loss</th>\n",
              "      <th>Validation Loss</th>\n",
              "      <th>Bleu</th>\n",
              "      <th>Brevity Penalty</th>\n",
              "      <th>Length Ratio</th>\n",
              "    </tr>\n",
              "  </thead>\n",
              "  <tbody>\n",
              "    <tr>\n",
              "      <td>1</td>\n",
              "      <td>1.637600</td>\n",
              "      <td>0.461088</td>\n",
              "      <td>0.568392</td>\n",
              "      <td>1.000000</td>\n",
              "      <td>1.337281</td>\n",
              "    </tr>\n",
              "    <tr>\n",
              "      <td>2</td>\n",
              "      <td>0.980200</td>\n",
              "      <td>0.610702</td>\n",
              "      <td>0.513846</td>\n",
              "      <td>1.000000</td>\n",
              "      <td>1.487891</td>\n",
              "    </tr>\n",
              "    <tr>\n",
              "      <td>3</td>\n",
              "      <td>0.963300</td>\n",
              "      <td>0.503696</td>\n",
              "      <td>0.562284</td>\n",
              "      <td>1.000000</td>\n",
              "      <td>1.362736</td>\n",
              "    </tr>\n",
              "    <tr>\n",
              "      <td>4</td>\n",
              "      <td>0.956200</td>\n",
              "      <td>0.383676</td>\n",
              "      <td>0.606021</td>\n",
              "      <td>1.000000</td>\n",
              "      <td>1.252961</td>\n",
              "    </tr>\n",
              "  </tbody>\n",
              "</table><p>"
            ]
          },
          "metadata": {}
        },
        {
          "output_type": "stream",
          "name": "stderr",
          "text": [
            "***** Running Evaluation *****\n",
            "  Num examples = 229\n",
            "  Batch size = 8\n",
            "Saving model checkpoint to ./checkpoint/checkpoint-746\n",
            "Configuration saved in ./checkpoint/checkpoint-746/config.json\n",
            "Configuration saved in ./checkpoint/checkpoint-746/generation_config.json\n",
            "Model weights saved in ./checkpoint/checkpoint-746/pytorch_model.bin\n",
            "Deleting older checkpoint [checkpoint/checkpoint-4] due to args.save_total_limit\n",
            "***** Running Evaluation *****\n",
            "  Num examples = 229\n",
            "  Batch size = 8\n",
            "Saving model checkpoint to ./checkpoint/checkpoint-1492\n",
            "Configuration saved in ./checkpoint/checkpoint-1492/config.json\n",
            "Configuration saved in ./checkpoint/checkpoint-1492/generation_config.json\n",
            "Model weights saved in ./checkpoint/checkpoint-1492/pytorch_model.bin\n",
            "Deleting older checkpoint [checkpoint/checkpoint-746] due to args.save_total_limit\n",
            "***** Running Evaluation *****\n",
            "  Num examples = 229\n",
            "  Batch size = 8\n",
            "Saving model checkpoint to ./checkpoint/checkpoint-2238\n",
            "Configuration saved in ./checkpoint/checkpoint-2238/config.json\n",
            "Configuration saved in ./checkpoint/checkpoint-2238/generation_config.json\n",
            "Model weights saved in ./checkpoint/checkpoint-2238/pytorch_model.bin\n",
            "Deleting older checkpoint [checkpoint/checkpoint-1492] due to args.save_total_limit\n",
            "***** Running Evaluation *****\n",
            "  Num examples = 229\n",
            "  Batch size = 8\n",
            "Saving model checkpoint to ./checkpoint/checkpoint-2984\n",
            "Configuration saved in ./checkpoint/checkpoint-2984/config.json\n",
            "Configuration saved in ./checkpoint/checkpoint-2984/generation_config.json\n",
            "Model weights saved in ./checkpoint/checkpoint-2984/pytorch_model.bin\n",
            "Deleting older checkpoint [checkpoint/checkpoint-2238] due to args.save_total_limit\n"
          ]
        }
      ]
    },
    {
      "cell_type": "code",
      "source": [
        "!mkdir ./bert_model_weight_v1 && mkdir ./bert_tokenizer_weight_v1"
      ],
      "metadata": {
        "colab": {
          "base_uri": "https://localhost:8080/"
        },
        "id": "CowxGRG0uE66",
        "outputId": "240414cf-7fa1-4085-8f58-d9a3ae557325"
      },
      "execution_count": 26,
      "outputs": [
        {
          "output_type": "execute_result",
          "data": {
            "text/plain": [
              "tensor([  101,  1031,  1000,  1999,  2715,  2554,  1010,  2926,  1999,  2502,\n",
              "         3655,  1010, 17319,  2524,  2147,  2038,  2468,  1037,  2200,  2590,\n",
              "         3444,  1997,  6623,  2111,  1032, 23343, 24096,  2683,  2015, 10126,\n",
              "         2166,   102])"
            ]
          },
          "metadata": {},
          "execution_count": 26
        }
      ]
    },
    {
      "cell_type": "code",
      "source": [
        "model.save_pretrained(\"./bert_model_weight_v1\")\n",
        "tokenizer.save_pretrained(\"./bert_tokenizer_weight_v1\")"
      ],
      "metadata": {
        "id": "r2BqClpsxEdN"
      },
      "execution_count": null,
      "outputs": []
    },
    {
      "cell_type": "code",
      "source": [
        "!mv ./model_weight_v1 ./drive/MyDrive/checkpoint_bert && mv ./tokenizer_weight_v1 ./drive/MyDrive/checkpoint_bert "
      ],
      "metadata": {
        "id": "2QidhEdQxG2W"
      },
      "execution_count": null,
      "outputs": []
    }
  ]
}